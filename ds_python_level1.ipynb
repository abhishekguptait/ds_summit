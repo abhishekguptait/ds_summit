{
  "nbformat": 4,
  "nbformat_minor": 0,
  "metadata": {
    "colab": {
      "name": "ds_python_level1.ipynb",
      "provenance": [],
      "authorship_tag": "ABX9TyPfxBUZPKpManBkOKg7NahM",
      "include_colab_link": true
    },
    "kernelspec": {
      "name": "python3",
      "display_name": "Python 3"
    }
  },
  "cells": [
    {
      "cell_type": "markdown",
      "metadata": {
        "id": "view-in-github",
        "colab_type": "text"
      },
      "source": [
        "<a href=\"https://colab.research.google.com/github/abhishekguptait/ds_summit/blob/master/ds_python_level1.ipynb\" target=\"_parent\"><img src=\"https://colab.research.google.com/assets/colab-badge.svg\" alt=\"Open In Colab\"/></a>"
      ]
    },
    {
      "cell_type": "code",
      "metadata": {
        "id": "544lAIFdSFpF",
        "colab_type": "code",
        "colab": {
          "base_uri": "https://localhost:8080/",
          "height": 34
        },
        "outputId": "e6d28ce9-008e-42ca-a4e9-42524f6377e1"
      },
      "source": [
        "import requests \n",
        "url='https://lf8q0kx152.execute-api.us-east-2.amazonaws.com/default/computeFitnessScore' \n",
        "x=requests.post(url,json={\"qconfig\":\"7 1 4 2 0 6 3 5\",\"userID\":344395,\"githubLink\":\"https://github.com/abhishekguptait/ds_summit/blob/master/queen_ga.ipynb\"}) \n",
        "print(x.text)"
      ],
      "execution_count": 1,
      "outputs": [
        {
          "output_type": "stream",
          "text": [
            "{\"No Of Attempts lapsed out of 3\": 1, \"submittedConfiguration\": [7, 1, 4, 2, 0, 6, 3, 5], \"configurationStatus\": \"Valid\", \"configurationScore\": 100.0}\n"
          ],
          "name": "stdout"
        }
      ]
    }
  ]
}